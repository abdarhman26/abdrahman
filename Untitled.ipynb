{
 "cells": [
  {
   "cell_type": "code",
   "execution_count": null,
   "id": "58c9fff4-322e-4dd6-9ba6-cfe2d5fafb29",
   "metadata": {},
   "outputs": [],
   "source": []
  }
 ],
 "metadata": {
  "kernelspec": {
   "display_name": "",
   "name": ""
  },
  "language_info": {
   "name": ""
  }
 },
 "nbformat": 4,
 "nbformat_minor": 5
}
